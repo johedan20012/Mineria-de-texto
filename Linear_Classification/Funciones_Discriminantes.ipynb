{
 "cells": [
  {
   "cell_type": "markdown",
   "metadata": {},
   "source": [
    "<a href=\"https://colab.research.google.com/github/jhermosillo/diplomado_CDD2019/blob/master/04%20Clasificacion_Agrupamiento/1%20Modelos%20Lineales/Notebooks/Funciones_Discriminantes.ipynb\" target=\"_parent\"><img src=\"https://colab.research.google.com/assets/colab-badge.svg\" alt=\"Open In Colab\"/></a>"
   ]
  },
  {
   "cell_type": "markdown",
   "metadata": {},
   "source": [
    "<h1 style=\"font-size:50px;\" align=\"left\"> <img align=\"left\" width=\"350\" src=\"./img/classification-in-machine-learning.jpg\"/> <br>Modelos <br>Lineales de Clasificación</h1>"
   ]
  },
  {
   "cell_type": "markdown",
   "metadata": {},
   "source": [
    "___"
   ]
  },
  {
   "cell_type": "markdown",
   "metadata": {},
   "source": [
    "<style>\n",
    "table, td, th {  \n",
    "  border: 1px solid #ddd;\n",
    "  text-align: left;\n",
    "}\n",
    "|  <img src=\"../img/data_science.jpg\" width=\"300\"/> |   <font color='midnightblue'>Diplomado en <br> Ciencia de Datos <br> con Python</font>|\n",
    "|:-:|:-|\n"
   ]
  },
  {
   "cell_type": "markdown",
   "metadata": {},
   "source": [
    "&#128214; <u>Referencias bibliográficas</u>:\n",
    "* Bishop, Christopher M. (2006). Pattern recognition and machine learning. New York. Springer.\n",
    "* Flach, Peter (2012). Machine Learning: The Art and Science of Algorithms that Make Sense of Data. Cambridge University Press."
   ]
  },
  {
   "cell_type": "markdown",
   "metadata": {},
   "source": [
    "# &#9991; <u> La tarea de clasificación</u>"
   ]
  },
  {
   "cell_type": "markdown",
   "metadata": {},
   "source": [
    "* Supongamos que tenemos un vector de datos de entrada $\\textrm{x}$ de dimensión $D$: $\\textrm{x}:=\\{x_1,\\ldots,x_D\\}$ ($\\textrm{x}\\in\\mathbb{R}^D$), junto con una variable objetivo correspondiente $\\textrm{t}$."
   ]
  },
  {
   "cell_type": "markdown",
   "metadata": {},
   "source": [
    "&#9758; Un clasificador separa los datos de entrada en **regiones de decisión** cuyos límites llamamos **Fronteras (o superficies) de Decisión** (FD).\n",
    "\n",
    "* Las fronteras lineales son funciones lineales del vector de entrada, por lo que están definidas en **hyperplanos** de dimensión $D-1$. \n",
    "* En la Regresión: $\\textrm{t}$ es un valor real.\n",
    "* En la __Clasificación__: $\\textrm{t}$ es una variable que corresponde a una clase $\\mathcal{C}_k$, con $k=1,2,\\ldots,K$. Típicamente, en el caso de $K=2$, $t\\in\\{0,1\\}$, de tal forma que $t=0$ corresponde a $\\mathcal{C}_1$ y $t=1$ corresponde a $\\mathcal{C}_2$. La representación binaria permite tener una interpretación probabilística de la pertenencia a una clase u a otra (regresión logística).\n",
    "* En el caso multiclase, $t$ puede ser un vector de representación de tipo **codificación 1-en-**$K$. Por ejemplo, si $K=5$, la clase $\\mathcal{C}_2$ se representaría así:\n",
    "$$\n",
    "t=(0,1,0,0,0)^\\textrm{T}\n",
    "$$"
   ]
  },
  {
   "cell_type": "markdown",
   "metadata": {},
   "source": [
    "___"
   ]
  },
  {
   "cell_type": "markdown",
   "metadata": {},
   "source": [
    "# &#9991; <u>Notación</u>"
   ]
  },
  {
   "cell_type": "markdown",
   "metadata": {},
   "source": [
    "* La Regresión Lineal clásica, vista en el Módulo anterior, busca ajustar un modelo lineal:\n",
    "$$\n",
    "y=\\beta_0+\\beta_1x_1+\\beta_2x_2+\\ldots+\\beta_nx_n,\n",
    "$$\n",
    "* Para fines del presente Módulo, vamos a expresar un modelo lineal de la siguiente forma:\n",
    "$$\n",
    "y(\\textrm{x})=\\textrm{w}^\\textrm{T}\\textrm{x}+w_{0} \\;\\;\\;\\;\\;\\;\\;\\;(1)\n",
    "$$\n",
    "donde usaremos la convención clásica de notación vectorial:\n",
    "<table style=\"width:100%\">\n",
    "  <tr>\n",
    "    <td><img align=\"left\" width=\"350\" src=\"./img/vectores.jpg\"/></td>\n",
    "    <td><img align=\"left\" width=\"350\" src=\"./img/vectores_dot.jpg\"/></td>\n",
    "  </tr>\n",
    "</table>\n",
    "    \n",
    "En Python, lo anterior se escribe:"
   ]
  },
  {
   "cell_type": "code",
   "execution_count": 24,
   "metadata": {},
   "outputs": [],
   "source": [
    "#Para Colab\n",
    "# from IPython.display import Javascript, Math\n",
    "# def display_Math(s):\n",
    "#   display(Javascript(\"var sc = document.createElement('script')\"))\n",
    "#   display(Javascript(\"sc.type='text/javascript'; sc.src='https://cdnjs.cloudflare.com/ajax/libs/mathjax/2.7.3/MathJax.js?config=TeX-AMS-MML_HTMLorMML&dummy=.js'\"))\n",
    "#   display(Javascript(\"var currentDiv = document.activeElement.parent\"))\n",
    "#   #display(Javascript(\"sc.onload = function () {console.log('loaded')};\"))\n",
    "#   display(Javascript(\"document.body.insertBefore(sc, currentDiv)\"))\n",
    "#   return display(Math(s))"
   ]
  },
  {
   "cell_type": "code",
   "execution_count": 25,
   "metadata": {},
   "outputs": [
    {
     "name": "stdout",
     "output_type": "stream",
     "text": [
      "w ((10,)) = [2. 2. 2. 2. 2. 2. 2. 2. 2. 2.] \n",
      " x ((10,)) = [ 1  2  3  4  5  6  7  8  9 10]\n"
     ]
    },
    {
     "data": {
      "text/latex": [
       "$y_1 = np.sum(np.multiply(w,x)) = \\sum w^T \\odot x = \\sum [ 2.  4.  6.  8. 10. 12. 14. 16. 18. 20.] (10,) = 110.00$"
      ],
      "text/plain": [
       "<IPython.core.display.Latex object>"
      ]
     },
     "metadata": {},
     "output_type": "display_data"
    },
    {
     "data": {
      "text/latex": [
       "$y_2 = np.dot(w,x) = y_3 = w@x = w \\cdot x = 110.00 = 110.00$"
      ],
      "text/plain": [
       "<IPython.core.display.Latex object>"
      ]
     },
     "metadata": {},
     "output_type": "display_data"
    },
    {
     "data": {
      "text/latex": [
       "$y_4 = w.T@x = w^T \\cdot x = [2. 2. 2. 2. 2. 2. 2. 2. 2. 2.] (10,) \\cdot [ 1  2  3  4  5  6  7  8  9 10] = 110.00$"
      ],
      "text/plain": [
       "<IPython.core.display.Latex object>"
      ]
     },
     "metadata": {},
     "output_type": "display_data"
    }
   ],
   "source": [
    "import numpy as np\n",
    "from IPython.display import display, Markdown, Latex\n",
    "\n",
    "w=(np.ones(10)*2)\n",
    "x=np.arange(1,11)\n",
    "print('w ({0}) = {1} \\n x ({2}) = {3}'.format(w.shape,w,x.shape,x))\n",
    "\n",
    "p=np.multiply(w,x)\n",
    "y1=np.sum(p)\n",
    "y2=np.dot(w,x)\n",
    "y3=w@x\n",
    "wT=w.T\n",
    "y4=wT@x\n",
    "\n",
    "\n",
    "s1 = f'$y_1 = %s = \\sum w^T \\odot x = \\sum %s %s = %.2f$'%('np.sum(np.multiply(w,x))',p,p.shape,y1) \n",
    "s2 = f'$y_2 = %s = y_3 = %s = w \\cdot x = %.2f = %.2f$'%('np.dot(w,x)','w@x',y2,y3) \n",
    "s3 = f'$y_4 = %s = w^T \\cdot x = %s %s \\cdot %s = %.2f$'%('w.T@x',wT,wT.shape,x,y4) \n",
    "\n",
    "#Para Jupyter\n",
    "display(Latex(s1))\n",
    "display(Latex(s2))\n",
    "display(Latex(s3))\n",
    "#Para Colab\n",
    "# display_Math(s1)\n",
    "# display_Math(s2)\n",
    "# display_Math(s3)"
   ]
  },
  {
   "cell_type": "markdown",
   "metadata": {},
   "source": [
    "* En el caso de la clasificación, queremos predecir etiquetas discretas de clase, o más generalmente valores de probabilidad de pertenencia a las clases en el rango $(0,1)$.\n",
    "* Para esto vamos a considerar una transformación no lineal $f(\\cdot)$ de $\\textrm{w}$:\n",
    "\n",
    "$$\n",
    "y(\\textrm{x})=f(\\textrm{w}^\\textrm{T}\\textrm{x}+w_{0}) \\;\\;\\;\\;\\;\\;\\;\\;\\;\\;(2)\n",
    "$$\n",
    "* A $f(\\cdot)$ se le conoce como **función de activación**.\n",
    "* Las FD corresponden con $y(\\textrm{x})=$ constante, es decir $\\textrm{w}^\\textrm{T}\\textrm{x}+w_{0}=$ constante, lo que significa que las FD son funciones lineales de $\\textrm{x}$, a pesar de que $f(\\cdot)$ es no lineal.\n",
    "* Por esta razón a la clase de modelos descritos por (2) se le conoce como _**modelos lineales generalizados**_.\n",
    "* Sin embargo, a diferencia de los modelos de regresión (1), que son lineales en los parámetros, los modelos (2) no lo son debido a $f(\\cdot)$.\n",
    "* Los modelos lineales de clasificación también pueden aplicarse si hacemos una transformación fija de los datos primero mediante funciones base que llamaremos aquí $\\phi(x)$. "
   ]
  },
  {
   "cell_type": "markdown",
   "metadata": {},
   "source": [
    "# &#9991; <u>Funciones discriminantes</u>"
   ]
  },
  {
   "cell_type": "markdown",
   "metadata": {},
   "source": [
    "## Discriminantes de 2 clases"
   ]
  },
  {
   "cell_type": "markdown",
   "metadata": {},
   "source": [
    "* La función discriminante más simple es la que obtenemos mediante una función lineal del vector de entrada:\n",
    "\n",
    "$$\n",
    "y(\\textrm{x})=\\textrm{w}^\\textrm{T}\\textrm{x}+w_{0} \\;\\;\\;\\;\\;\\;\\;\\;\\;\\;(3)\n",
    "$$"
   ]
  },
  {
   "cell_type": "markdown",
   "metadata": {},
   "source": [
    "* $\\textrm{w}$ es el **vector de pesos**, y $w_0$ es el bias (sesgo / intercepto). \n",
    "* A $-w_0$ se le conoce como el **umbral** (_threshold_).\n",
    "* Un vector de entrada $\\textrm{x}$ será asignado a la clase $\\mathcal{C}_{1}$ si $y(\\textrm{x}) \\geq 0$ y a la clase $\\mathcal{C}_{2}$ de lo contrario.\n",
    "* La FD correspondiente está definida por la relación $y(\\textrm{x}) = 0$, que corresponde a un hyperplano de dimensión $(D-1)$ dentro del espacio $D-$ dimensional de entrada.\n",
    "* Para cualesquiera dos puntos $\\textrm{x}_A$ y $\\textrm{x}_B$, $y(\\textrm{x}_A) = y(\\textrm{x}_B) = 0$, por lo que $\\textrm{w}^\\textrm{T}(\\textrm{x}_A-\\textrm{x}_B)=0$ es ortogonal a cualquier vector en la FD. \n",
    "* De esta forma, $\\textrm{w}$ **determina la orientación de la FD**. \n",
    "* También, si $\\textrm{x}$ es un punto en la FD, $y(\\textrm{x})=0$ y la distancia normal del origen a la FD está dada por:\n",
    "\n",
    "$$\n",
    "\\frac{\\textrm{w}^\\textrm{T}\\textrm{x}}{\\left\\lVert\\textrm{w}\\right\\rVert}=-\\frac{w_0}{\\left\\lVert\\textrm{w}\\right\\rVert}\n",
    "$$\n",
    "\n",
    "<div align=\"center\">\n",
    "<img align=\"center\" width=\"50%\" src=\"./img/modelo_lineal_conceptos.jpg\"/>\n",
    "</div>"
   ]
  },
  {
   "cell_type": "markdown",
   "metadata": {},
   "source": [
    "* En muchas ocasiones es conveniente usar una notación más compacta, por lo que escribiremos: $\\tilde{\\textrm{w}}=(w_0,\\textrm{w})$ y $\\tilde{\\textrm{x}}=(1,\\textrm{x})$, por lo que:\n",
    "\n",
    "$$\n",
    "y(\\textrm{x})=\\tilde{\\textrm{w}}^\\textrm{T}\\tilde{\\textrm{x}}\n",
    "$$\n",
    "\n",
    "* En este caso, la FD son hyperplanos que pasan por el origen del espacio $(D+1)-$ dimensional expandido de la entrada."
   ]
  },
  {
   "cell_type": "markdown",
   "metadata": {},
   "source": [
    "## En Python"
   ]
  },
  {
   "cell_type": "code",
   "execution_count": 26,
   "metadata": {},
   "outputs": [
    {
     "name": "stdout",
     "output_type": "stream",
     "text": [
      "---Beta----\n",
      "Beta= [ 6.  -1.2]\n",
      "Beta.shape = (2,)\n",
      "\n",
      "---X-----\n",
      "X[:2]= \n",
      "     x0           x1\n",
      "[[1.         0.        ]\n",
      " [1.         0.05050505]]\n",
      "X.shape=(100, 2), X.ndim=2, X.size=200\n",
      "\n",
      "---y-----\n"
     ]
    },
    {
     "data": {
      "text/latex": [
       "$y(x) = X@B = $"
      ],
      "text/plain": [
       "<IPython.core.display.Latex object>"
      ]
     },
     "metadata": {},
     "output_type": "display_data"
    },
    {
     "name": "stdout",
     "output_type": "stream",
     "text": [
      "[6.   5.94 5.88 5.82 5.76 5.7  5.64 5.58 5.52 5.45]\n",
      "y.shape= (100,)\n",
      "\n",
      "ax.plot(X[:,1], y, color=,lw=1)\n"
     ]
    },
    {
     "data": {
      "image/png": "[encoded data removed]",
      "text/plain": [
       "<Figure size 432x288 with 1 Axes>"
      ]
     },
     "metadata": {
      "needs_background": "light"
     },
     "output_type": "display_data"
    }
   ],
   "source": [
    "import numpy as np\n",
    "import matplotlib.pyplot as plt\n",
    "%matplotlib inline\n",
    "\n",
    "\n",
    "print('---Beta----')\n",
    "b = 6; a = -1.2\n",
    "Beta=np.array([b,a])\n",
    "print('Beta=',Beta)\n",
    "print('Beta.shape = {}\\n'.format(Beta.shape))\n",
    "\n",
    "print('---X-----')\n",
    "x=np.linspace(0, 5, 100)\n",
    "X = np.asarray([np.ones(x.size), x]).T\n",
    "print('X[:2]= ')\n",
    "print('     x0           x1')\n",
    "print(X[:2])\n",
    "print('X.shape={0}, X.ndim={1}, X.size={2}\\n'.format(X.shape,X.ndim,X.size))\n",
    "\n",
    "print('---y-----')\n",
    "y=np.round(X@Beta,2)\n",
    "\n",
    "#Para Colab\n",
    "# display_Math(f'$y(x) = X@Beta = $')\n",
    "\n",
    "#Para Jupyter\n",
    "display(Latex(f'$y(x) = X@B = $'))\n",
    "print(y[:10])\n",
    "print('y.shape= {}\\n'.format(y.shape))\n",
    "\n",
    "\n",
    "\"\"\" DIBUJA TODO \"\"\"\n",
    "\n",
    "fig = plt.figure()\n",
    "ax = fig.add_subplot(111)\n",
    "\n",
    "ax.plot(X[:,1], y, color='r',lw=1)\n",
    "print('ax.plot(X[:,1], y, color='r',lw=1)')\n",
    "\n",
    "#--------Dibuja los ejes y la cuadrícula---------\n",
    "ax.plot((0,0),(6.2,0), color='k',lw=2)\n",
    "ax.plot((0,5.2),(0,0), color='k',lw=2)\n",
    "# ax.grid(color='lightgray', linestyle='--', linewidth=1)\n",
    "\n",
    "#-------Etiqueta los ejes y coloca el Texto------\n",
    "plt.xlabel('$x$',size='large')\n",
    "plt.ylabel('$y$',size='large',rotation=0)\n",
    "ax.annotate('FD: y(x)=-1.2x + 6', xy=(1.8, 4), xytext=(3, 5),\n",
    "            arrowprops=dict(arrowstyle = \"->\"))\n",
    "\n",
    "#-----Acomoda todo en forma óptima---\n",
    "fig.tight_layout()"
   ]
  },
  {
   "cell_type": "markdown",
   "metadata": {},
   "source": [
    "<table style=\"width:100%\">\n",
    "  <tr>\n",
    "    <td><img align=\"left\" width=\"100%\" src=\"./img/Python_DOT_PROD_1.jpg\"/></td>\n",
    "    <td><img align=\"left\" width=\"100%\" src=\"./img/Python_DOT_PROD_2.jpg\"/></td>\n",
    "  </tr>\n",
    "</table>"
   ]
  },
  {
   "cell_type": "code",
   "execution_count": 27,
   "metadata": {},
   "outputs": [
    {
     "name": "stdout",
     "output_type": "stream",
     "text": [
      "------- W como vector director de la FD --------------\n",
      "X:=\n",
      "   x1          x2\n",
      "[[0.         6.        ]\n",
      " [0.05050505 5.94      ]] \n",
      "\n",
      "X.shape= (100, 2)\n",
      "\n",
      "W_r:= [ 6.  -1.2]\n",
      "\n",
      "ax.plot(X[:,0],X[:,1],color=,alpha=0.5)\n"
     ]
    },
    {
     "data": {
      "image/png": "[encoded data removed]",
      "text/plain": [
       "<Figure size 432x288 with 1 Axes>"
      ]
     },
     "metadata": {
      "needs_background": "light"
     },
     "output_type": "display_data"
    }
   ],
   "source": [
    "print('------- W como vector director de la FD --------------')\n",
    "X=np.array(list(zip(x,y)))\n",
    "print('X:=')\n",
    "print('   x1          x2')\n",
    "print(X[:2],'\\n')\n",
    "print('X.shape= {}\\n'.format(X.shape))\n",
    "\n",
    "#------Construye el vector director de la recta--------\n",
    "b = 6; a = -1.2\n",
    "W_r=np.array([b,a])\n",
    "print('W_r:= {}\\n'.format(W_r))\n",
    "\n",
    "\n",
    "\"\"\" GRAFICA TODO \"\"\"\n",
    "\n",
    "fig = plt.figure()\n",
    "ax = fig.add_subplot(111)\n",
    "\n",
    "#-----Dibuja el vector director de la recta------\n",
    "ax.quiver(0,b,1.0,a, color=['b'], units='xy', scale = 1)\n",
    "\n",
    "#----Dibuja los puntos de X FD-------------------\n",
    "# ax.scatter(X[:,0],X[:,1],marker='o',s=20,alpha=0.3)\n",
    "ax.plot(X[:,0],X[:,1],color='r',alpha=0.5)\n",
    "print('ax.plot(X[:,0],X[:,1],color='r',alpha=0.5)')\n",
    "#----Para que los vectores se vean a escala real----\n",
    "plt.axis('equal')\n",
    "\n",
    "#--------Dibuja los ejes y la cuadrícula---------\n",
    "ax.plot((0,0),(6.2,0), color='k',lw=2)\n",
    "ax.plot((0,5.2),(0,0), color='k',lw=2)\n",
    "# ax.grid(color='lightgray', linestyle='--', linewidth=1)\n",
    "\n",
    "#-------Etiqueta los ejes y coloca el Texto------\n",
    "plt.xlabel('$x$',size='large')\n",
    "plt.ylabel('$y$',size='large',rotation=0)\n",
    "ax.annotate('$\\overrightarrow W_r$=(1,-1.2)', xy=(0.7, 5.3), xytext=(2.2, 5.8),\n",
    "            arrowprops=dict(arrowstyle = \"->\"))\n",
    "\n",
    "ax.annotate('x1', xy=(5.5, 0), xytext=(5.6, 0.2))\n",
    "ax.annotate('x2', xy=(-0.5, 5.5), xytext=(-0.6, 5.5))\n",
    "ax.annotate('FD: y(x)=-1.2x + 6', xy=(1.8, 4), xytext=(3, 5),\n",
    "            arrowprops=dict(arrowstyle = \"->\"))\n",
    "\n",
    "ax.set_xlim(xmin=0, xmax=6)\n",
    "ax.set_ylim(ymin=0, ymax=6.5)\n",
    "\n",
    "#-------Oculta el marco------\n",
    "# plt.axis('off')\n",
    "#-----Acomoda todo en forma óptima---\n",
    "fig.tight_layout()\n"
   ]
  },
  {
   "cell_type": "code",
   "execution_count": 28,
   "metadata": {},
   "outputs": [
    {
     "name": "stdout",
     "output_type": "stream",
     "text": [
      "------- W como vector ORTOGONAL a la FD --------------\n",
      "X:=\n",
      "       x0          x1          x2\n",
      "[[1.         0.         6.        ]\n",
      " [1.         0.05050505 5.94      ]]\n",
      "X.shape= (100, 3)\n",
      "\n",
      "------- W=(w0,w1,w2) --------------\n",
      "  w0   w1   w2\n",
      "W= [-6.   1.2  1. ]\n",
      "\n",
      "W_r:= [1 -1.2]\n",
      "\n"
     ]
    }
   ],
   "source": [
    "print('------- W como vector ORTOGONAL a la FD --------------')\n",
    "\n",
    "#---empaca los vectores x,y uno a uno para formar X------ \n",
    "X=np.array(list(zip(x,y)))\n",
    "\n",
    "#---Apila horizontalmente con X un vector de 1's--------\n",
    "X=np.hstack((np.ones((X.shape[0],1)),X))\n",
    "print('X:=')\n",
    "print('       x0          x1          x2')\n",
    "print(X[:2])\n",
    "print('X.shape= {}\\n'.format(X.shape))\n",
    "\n",
    "\n",
    "#----------W ortogonal a la FD--------------------\n",
    "W = np.array([-6,1.2,1.0])\n",
    "o = [0],[0] # origin point\n",
    "print('------- W=(w0,w1,w2) --------------')\n",
    "print('  w0   w1   w2')\n",
    "print('W= {}'.format(W))\n",
    "print('\\nW_r:= {}\\n'.format('[1 -1.2]'))"
   ]
  },
  {
   "cell_type": "markdown",
   "metadata": {},
   "source": [
    "<img align=\"center\" width=\"350\" src=\"./img/modelo_lineal_conceptos.jpg\"/>"
   ]
  },
  {
   "cell_type": "markdown",
   "metadata": {},
   "source": [
    "&#9998; **Calcula el valor de $d$ y $y$**"
   ]
  },
  {
   "cell_type": "code",
   "execution_count": 29,
   "metadata": {},
   "outputs": [
    {
     "name": "stdout",
     "output_type": "stream",
     "text": [
      "d= 3.8411063979868794\n",
      "[ 0.  0.  0.  0.  0.  0.  0.  0.  0. -0. -0. -0. -0. -0. -0. -0. -0.  0.\n",
      "  0.  0.  0.  0.  0.  0.  0. -0. -0. -0. -0. -0. -0. -0. -0.  0.  0.  0.\n",
      "  0.  0.  0.  0.  0.  0. -0. -0. -0. -0. -0. -0. -0. -0.  0.  0.  0.  0.\n",
      "  0.  0.  0.  0. -0. -0. -0. -0. -0. -0. -0. -0.  0.  0.  0.  0.  0.  0.\n",
      "  0.  0.  0. -0. -0. -0. -0. -0. -0. -0. -0.  0.  0.  0.  0.  0.  0.  0.\n",
      "  0. -0. -0. -0. -0. -0. -0. -0. -0.  0.]\n"
     ]
    }
   ],
   "source": [
    "\"\"\"\n",
    "CALCULA d= -w0/||w||\n",
    "\"\"\"\n",
    "# usa numpy.linalg.norm(array) --> LA.norm(a)\n",
    "from numpy import linalg as LA\n",
    "\n",
    "d=-W[0]/LA.norm(W[1:])\n",
    "print('d= {}'.format(d))\n",
    "\n",
    "\"\"\"\n",
    "CALCULA y= W^T@X\n",
    "\"\"\"\n",
    "y=X@W\n",
    "print(np.round(y,2))"
   ]
  },
  {
   "cell_type": "markdown",
   "metadata": {},
   "source": [
    "### Grafiquemos todo"
   ]
  },
  {
   "cell_type": "code",
   "execution_count": 30,
   "metadata": {},
   "outputs": [
    {
     "name": "stdout",
     "output_type": "stream",
     "text": [
      "------- W como vector ORTOGONAL a la FD --------------\n",
      "X:=\n",
      "[[1.         0.         6.        ]\n",
      " [1.         0.05050505 5.94      ]]\n",
      "W:=\n",
      "[-6.   1.2  1. ]\n"
     ]
    },
    {
     "data": {
      "text/latex": [
       "$d=\\frac{-w_0}{\\lVert w \\rVert}= 3.84$"
      ],
      "text/plain": [
       "<IPython.core.display.Latex object>"
      ]
     },
     "metadata": {},
     "output_type": "display_data"
    },
    {
     "data": {
      "image/png": "[encoded data removed]",
      "text/plain": [
       "<Figure size 432x288 with 1 Axes>"
      ]
     },
     "metadata": {
      "needs_background": "light"
     },
     "output_type": "display_data"
    }
   ],
   "source": [
    "print('------- W como vector ORTOGONAL a la FD --------------')\n",
    "print('X:=')\n",
    "print(X[:2])\n",
    "print('W:=')\n",
    "print(W)\n",
    "#Colab\n",
    "# display_Math(r'$d=\\frac{-w_0}{\\lVert w \\rVert}= %.2f$'%d)\n",
    "display(Latex(r'$d=\\frac{-w_0}{\\lVert w \\rVert}= %.2f$'%d))\n",
    "\n",
    "#---------Dibuja todo-----------------------------------------\n",
    "fig = plt.figure()\n",
    "ax = fig.add_subplot(111)\n",
    "\n",
    "#--------W_r ----------------------\n",
    "b = 6; a = -1.2\n",
    "W_r=np.array([b,a])\n",
    "\n",
    "ax.plot(X[:,1],X[:,2],color='r',alpha=0.5)\n",
    "ax.quiver(0,b,1.0,a, color=['k'], units='xy', scale = 1)\n",
    "ax.quiver(*o,W[1],W[2], color=['g'], units='xy', scale = 1)\n",
    "\n",
    "\n",
    "\"\"\" FORMATO DE FIGURA\"\"\"\n",
    "#----Para que los vectores se vean a escala real----\n",
    "plt.axis('equal')\n",
    "\n",
    "#--------Dibuja los ejes de d---------\n",
    "plt.annotate('', xy=(0,0), xytext=(-1.2,1),arrowprops=dict(arrowstyle='-'))\n",
    "plt.annotate('', xy=(-1,0.833333), xytext=(1.83333,3.83333), arrowprops=dict(arrowstyle='<->',linestyle='--'))\n",
    "\n",
    "#-------Coloca los textos------------\n",
    "ax.text(0.5,2, '$d= $' + str(d))\n",
    "ax.text(0.7, 5.3,'$\\overrightarrow W_r$=(1,-1.2)')\n",
    "ax.text(1, 0.4,'$\\overrightarrow W$=(1.2,1.0)')\n",
    "ax.text(1.3,4.5,'FD: $y(x):=X@W=0$')\n",
    "\n",
    "#----Dibuja dos nuevos puntos------\n",
    "ax.plot(4,3,'ro')\n",
    "ax.plot(3,1,'bo')\n",
    "ax.text(3.7,3.2,'$P=(4,3)$')\n",
    "ax.text(2.5,1.2,'$N=(3,1)$')\n",
    "\n",
    "#--------Dibuja los ejes y la cuadrícula---------\n",
    "ax.plot((0,0),(6.2,0), color='k',lw=2)\n",
    "ax.plot((0,5.2),(0,0), color='k',lw=2)\n",
    "# ax.grid(color='lightgray', linestyle='--', linewidth=1)\n",
    "\n",
    "#-------Etiqueta los ejes, dibujalos y coloca sus etiquetas------\n",
    "plt.xlabel('$x$',size='large')\n",
    "plt.ylabel('$y$',size='large',rotation=0)\n",
    "\n",
    "ax.annotate('x1', xy=(5.5, 0), xytext=(5.6, 0.2))\n",
    "ax.annotate('x2', xy=(-0.5, 5.5), xytext=(-0.6, 5.5))\n",
    "\n",
    "ax.set_xlim(xmin=0, xmax=6)\n",
    "ax.set_ylim(ymin=0, ymax=6.5)\n",
    "\n",
    "#-------Oculta el marco------\n",
    "# plt.axis('off')\n",
    "#-----Acomoda todo en forma óptima---\n",
    "fig.tight_layout()"
   ]
  },
  {
   "cell_type": "markdown",
   "metadata": {},
   "source": [
    "&#9998; **Calcula el valor de $y_P$ y $y_N$**"
   ]
  },
  {
   "cell_type": "code",
   "execution_count": 31,
   "metadata": {},
   "outputs": [
    {
     "name": "stdout",
     "output_type": "stream",
     "text": [
      "yp=1.7999999999999998, yn=-1.4000000000000004\n"
     ]
    }
   ],
   "source": [
    "xp=np.array([1, 4,3])\n",
    "xn=np.array([1, 3,1])\n",
    "\n",
    "yp=xp@W\n",
    "yn=xn@W\n",
    "\n",
    "print('yp={}, yn={}'.format(yp,yn))"
   ]
  },
  {
   "cell_type": "markdown",
   "metadata": {},
   "source": [
    "### Discriminantes de $K$ clases"
   ]
  },
  {
   "cell_type": "markdown",
   "metadata": {},
   "source": [
    "* La extensión a $K>2$ discriminantes tiene sus variantes.\n",
    "* Dos de las técnicas clásicas son $uno-contra-los-demas$, donde cada clasificador se encarga de separar los datos de una clase particular $C_k$ del resto, y el esquema $uno-contra-uno$, donde tienes $K(K-1)/2$ discriminantes binarios y los puntos se clasifican por mayoría de votos entre los discriminantes.\n",
    "* Sin embargo estos esquemas presentan inconvenientes como se ilustra en la siguiente figura"
   ]
  },
  {
   "cell_type": "markdown",
   "metadata": {},
   "source": [
    "<div align=\"center\">\n",
    "<img align=\"center\" width=\"60%\" src=\"./img/K_discriminantes.jpg\"/>\n",
    "</div>"
   ]
  },
  {
   "cell_type": "markdown",
   "metadata": {},
   "source": [
    "* Podemos evitar estos problemas si consideramos un solo discriminante de $K$-clases que abarque $K$ funciones lineales de la forma:\n",
    "\n",
    "$$\n",
    "y_k(\\textrm{x})=\\textrm{w}^\\textrm{T}_k\\textrm{x}+w_{k0}\n",
    "$$\n",
    "&emsp;&ensp; y luego asignar un punto $\\textrm{x}$ a la clase $\\mathcal{C}_k$ si $y_k(\\textrm{x})>y_j(\\textrm{x})$ para toda $j\\neq k$. \n",
    "* La FD entre las clases $\\mathcal{C}_k$ y $\\mathcal{C}_j$ está entonces dada por $y_k(\\textrm{x})=y_j(\\textrm{x})$ a por tanto corresponde a un hyperplano de dimensión $(D-1)$ definido por:\n",
    "\n",
    "$$\n",
    "(\\textrm{w}_k - \\textrm{w}_j)^\\textrm{T}\\textrm{x}+(w_{k0}-w_{j0})=0\n",
    "$$\n",
    "* Esto tiene la misma forma que la FD que vimos para el caso de 2 clases, por propiedades análogas a las que vimos aplican."
   ]
  },
  {
   "cell_type": "markdown",
   "metadata": {},
   "source": [
    "<div align=\"center\">\n",
    "<img align=\"center\" width=\"30%\" src=\"./img/R_convexas.jpg\"/>\n",
    "</div>"
   ]
  },
  {
   "cell_type": "markdown",
   "metadata": {},
   "source": [
    "# &#9991; <u>Mínimos Cuadrados para clasificación</u>"
   ]
  },
  {
   "cell_type": "markdown",
   "metadata": {},
   "source": [
    "* Como hemos visto en el Módulo anterior, Mínimos Cuadrados (OLS) aproxima la esperanza condicional $\\mathbb{E}[\\mathbf{t}|\\textrm{x}]$  de los valores objetivo dado el vector de entrada.\n",
    "* Esto permite suponer que podemos usar OLS como una herramienta de clasificación.\n",
    "* Cada clase $\\mathcal{C}_k$ se describe por su propio modelo lineal:\n",
    "\n",
    "$$\n",
    "y_k(\\textrm{x})=\\textrm{w}^\\textrm{T}_k\\textrm{x}+w_{k0}\\;\\;\\;\\;\\;(4)\n",
    "$$\n",
    "&emsp;&ensp;&nbsp; donde $k=1,\\ldots,K$. Podemos agrupar los términos (4) para escribir usando notación vectorial:\n",
    "\n",
    "$$\n",
    "\\mathbf{y}(\\textrm{x})=\\mathbf{\\tilde{W}}^\\textrm{T} \\tilde{\\textrm{x}}\\;\\;\\;\\;\\;(5)\n",
    "$$"
   ]
  },
  {
   "cell_type": "markdown",
   "metadata": {},
   "source": [
    "<div align=\"center\">\n",
    "<img align=\"center\" width=\"30%\" src=\"./img/y_vectorizado.jpg\"/>\n",
    "</div>"
   ]
  },
  {
   "cell_type": "markdown",
   "metadata": {},
   "source": [
    "* Para encontrar $\\mathbf{\\tilde{W}}$ podemos minimizar la suma de los residuales al cuadrado como se hizo en el Módulo anterior.\n",
    "* Consideremos un conjunto de entrenamiento $\\{\\textrm{x}_n,\\textrm{t}_n\\}$, donde $n=1,\\ldots,N$, y definamos la matrices $T$ y $X$ de la siguiente forma: "
   ]
  },
  {
   "cell_type": "markdown",
   "metadata": {},
   "source": [
    "<div align=\"center\">\n",
    "<img align=\"center\" width=\"50%\" src=\"./img/TX.jpg\"/>\n",
    "</div"
   ]
  },
  {
   "cell_type": "markdown",
   "metadata": {},
   "source": [
    "* Como hemos visto, la solución para $\\mathbf{\\tilde{W}}$ está dada por:\n",
    "$$\n",
    "\\mathbf{\\tilde{W}}=(\\mathbf{\\tilde{X}}^\\textrm{T}\\mathbf{\\tilde{X}})^{-1}\\mathbf{\\tilde{X}}^{\\textrm{T}}\\mathbf{T}=\\mathbf{\\tilde{X}}^\\dagger\\mathbf{T}\\;\\;\\;\\;\\;(6)\n",
    "$$\n",
    "* La función discriminante es entonces:\n",
    "$$\n",
    "\\textrm{y}(\\textrm{x})=\\mathbf{\\tilde{W}}^\\textrm{T}\\tilde{\\textrm{x}}=\\mathbf{T}^\\textrm{T}\\left( \\mathbf{\\tilde{X}}^\\dagger\\right)^\\textrm{T}\\tilde{\\textrm{x}}\\;\\;\\;\\;\\;(7)\n",
    "$$"
   ]
  },
  {
   "cell_type": "markdown",
   "metadata": {},
   "source": [
    "## En Python"
   ]
  },
  {
   "cell_type": "code",
   "execution_count": 32,
   "metadata": {},
   "outputs": [],
   "source": [
    "def genera_datos(add_outliers=False, add_class=False):\n",
    "    x0 = np.random.normal(size=50).reshape(-1, 2) - 1\n",
    "    x1 = np.random.normal(size=50).reshape(-1, 2) + 1.\n",
    "    if add_outliers:\n",
    "        x_1 = np.random.normal(size=10).reshape(-1, 2) + np.array([5., 10.])\n",
    "        return np.concatenate([x0, x1, x_1]), np.concatenate([np.zeros(25), np.ones(30)]).astype(np.int)\n",
    "    if add_class:\n",
    "        x2 = np.random.normal(size=50).reshape(-1, 2) + 3.\n",
    "        return np.concatenate([x0, x1, x2]), np.concatenate([np.zeros(25), np.ones(25), 2 + np.zeros(25)]).astype(np.int)\n",
    "    return np.concatenate([x0, x1]), np.concatenate([np.zeros(25), np.ones(25)]).astype(np.int)"
   ]
  },
  {
   "cell_type": "code",
   "execution_count": 33,
   "metadata": {},
   "outputs": [
    {
     "name": "stdout",
     "output_type": "stream",
     "text": [
      "x_train:=\n",
      "[[-2.49358021  0.44564815]\n",
      " [ 0.03586401  0.13309511]] [[ 1.75248484  0.89880637]\n",
      " [-0.4267332   0.76103249]] (50, 2)\n",
      "y_train:=\n",
      "[0 0] [1 1] (50,)\n"
     ]
    },
    {
     "data": {
      "text/plain": [
       "<matplotlib.collections.PathCollection at 0x10e6e3d6b80>"
      ]
     },
     "execution_count": 33,
     "metadata": {},
     "output_type": "execute_result"
    },
    {
     "data": {
      "image/png": "[encoded data removed]",
      "text/plain": [
       "<Figure size 432x288 with 1 Axes>"
      ]
     },
     "metadata": {
      "needs_background": "light"
     },
     "output_type": "display_data"
    }
   ],
   "source": [
    "x_train, y_train = genera_datos()\n",
    "print('x_train:=')\n",
    "print(x_train[:2],x_train[-2:],x_train.shape)\n",
    "print('y_train:=')\n",
    "print(y_train[:2],y_train[-2:],y_train.shape)\n",
    "\n",
    "#---------Dibuja todo-----------------------------------------\n",
    "fig = plt.figure()\n",
    "ax = fig.add_subplot(111)\n",
    "\n",
    "ax.scatter(x_train[:, 0], x_train[:, 1], c=y_train)"
   ]
  },
  {
   "cell_type": "code",
   "execution_count": 34,
   "metadata": {},
   "outputs": [
    {
     "name": "stdout",
     "output_type": "stream",
     "text": [
      "x1_test.shape=  (100, 100)\n",
      "x_test.shape=  (10000, 2)\n"
     ]
    },
    {
     "data": {
      "text/plain": [
       "<matplotlib.collections.PathCollection at 0x10e6f3024f0>"
      ]
     },
     "execution_count": 34,
     "metadata": {},
     "output_type": "execute_result"
    },
    {
     "data": {
      "image/png": "[encoded data removed]",
      "text/plain": [
       "<Figure size 432x288 with 1 Axes>"
      ]
     },
     "metadata": {
      "needs_background": "light"
     },
     "output_type": "display_data"
    }
   ],
   "source": [
    "x1_test, x2_test = np.meshgrid(np.linspace(-5, 5, 100), np.linspace(-5, 5, 100))\n",
    "x_test = np.array([x1_test, x2_test]).reshape(2, -1).T\n",
    "\n",
    "print('x1_test.shape= ',x1_test.shape)\n",
    "print('x_test.shape= ',x_test.shape)\n",
    "\n",
    "fig = plt.figure()\n",
    "ax = fig.add_subplot(111)\n",
    "\n",
    "ax.scatter(x_test[:, 0], x_test[:, 1])"
   ]
  },
  {
   "cell_type": "markdown",
   "metadata": {},
   "source": [
    "&#9998; **Calcula:** $\\mathbf{\\tilde{W}}=(\\mathbf{\\tilde{X}}^\\textrm{T}\\mathbf{\\tilde{X}})^{-1}\\mathbf{\\tilde{X}}^{\\textrm{T}}\\mathbf{T}=\\mathbf{\\tilde{X}}^\\dagger\\mathbf{T}$.\n",
    "\n",
    "1. Calculamos $\\tilde{\\mathbf{X}} \\in \\mathbb{R}^{N\\times (D+1)}$.\n",
    "2. Calculamos $\\mathbf{T} \\in \\mathbb{R}^{N\\times K}$.\n",
    "3. Calculamos $\\mathbf{\\tilde{W}} \\in \\mathbb{R}^{(D+1)\\times K}$, donde $\\mathbf{\\tilde{X}}^\\dagger \\in \\mathbb{R}^{(D+1)\\times N}$."
   ]
  },
  {
   "cell_type": "markdown",
   "metadata": {},
   "source": [
    "$\\tilde{\\mathbf{X}} \\in \\mathbb{R}^{N\\times (D+1)}:$"
   ]
  },
  {
   "cell_type": "code",
   "execution_count": 35,
   "metadata": {},
   "outputs": [
    {
     "name": "stdout",
     "output_type": "stream",
     "text": [
      "X_train:=\n",
      "[[ 1.         -2.49358021  0.44564815]\n",
      " [ 1.          0.03586401  0.13309511]]\n",
      "X-train.shape= (50, 3)\n",
      "X_test:=\n",
      "[[ 1.        -5.        -5.       ]\n",
      " [ 1.        -4.8989899 -5.       ]] (10000, 3)\n"
     ]
    }
   ],
   "source": [
    "from sklearn import preprocessing\n",
    "\n",
    "features = preprocessing.PolynomialFeatures(1)\n",
    "X_train=features.fit_transform(x_train)\n",
    "X_test=features.fit_transform(x_test)\n",
    "\n",
    "print('X_train:=')\n",
    "print(X_train[:2])\n",
    "print('X-train.shape=',X_train.shape)\n",
    "\n",
    "print('X_test:=')\n",
    "print(X_test[:2],X_test.shape)\n"
   ]
  },
  {
   "cell_type": "markdown",
   "metadata": {},
   "source": [
    "$\\mathbf{T}  \\in \\mathbb{R}^{N\\times K}:$"
   ]
  },
  {
   "cell_type": "code",
   "execution_count": 36,
   "metadata": {},
   "outputs": [
    {
     "name": "stdout",
     "output_type": "stream",
     "text": [
      "T.shape= (50, 2)\n"
     ]
    }
   ],
   "source": [
    "def encoderT(y:np.ndarray):\n",
    "    K=np.max(y) + 1\n",
    "    enc=np.eye(K)\n",
    "    return enc[y]\n",
    "\n",
    "T=encoderT(y_train)\n",
    "\n",
    "print('T.shape= {}'.format(T.shape))"
   ]
  },
  {
   "cell_type": "markdown",
   "metadata": {},
   "source": [
    "&#9998; **Calcula** $\\mathbf{\\tilde{W}} \\in \\mathbb{R}^{(D+1)\\times K}$; utiliza [numpy.linalg.pinv()](https://numpy.org/doc/stable/reference/generated/numpy.linalg.pinv.html?highlight=linalg%20inv#numpy.linalg.pinv) para calcular $\\mathbf{\\tilde{X}}^\\dagger$:"
   ]
  },
  {
   "cell_type": "code",
   "execution_count": 37,
   "metadata": {},
   "outputs": [
    {
     "name": "stdout",
     "output_type": "stream",
     "text": [
      "W:=\n",
      "[[ 0.52413614  0.47586386]\n",
      " [-0.17797033  0.17797033]\n",
      " [-0.14652164  0.14652164]]\n",
      "\n",
      "W.shape=(3, 2)\n"
     ]
    }
   ],
   "source": [
    "\"\"\"----TU CODIGO AQUÍ---------\"\"\"\n",
    "W=np.linalg.pinv(X_train)@T\n",
    "\"\"\"----------------------------\"\"\"\n",
    "\n",
    "print('W:=')\n",
    "print(W)\n",
    "print('\\nW.shape={}'.format(W.shape))"
   ]
  },
  {
   "cell_type": "markdown",
   "metadata": {},
   "source": [
    "&#9998; **Calcula** $\\mathbf{y}(\\textrm{x})=\\mathbf{\\tilde{W}}^\\textrm{T} \\tilde{\\textrm{x}}$, $(\\mathbf{y}\\in\\mathbb{R}^{K})$; utiliza [numpy.argmax()](https://numpy.org/doc/stable/reference/generated/numpy.argmax.html?highlight=argmax#numpy.argmax) para obtener $\\mathbf{y}$"
   ]
  },
  {
   "cell_type": "code",
   "execution_count": 38,
   "metadata": {},
   "outputs": [
    {
     "name": "stdout",
     "output_type": "stream",
     "text": [
      "[0 0 0 ... 1 1 1] (10000,)\n"
     ]
    }
   ],
   "source": [
    "y_x=X_test@W\n",
    "# print(y_x,y_x.shape)\n",
    "y=np.argmax(y_x,axis=1)\n",
    "print(y,y.shape)"
   ]
  },
  {
   "cell_type": "markdown",
   "metadata": {},
   "source": [
    "&#9998; **Escribe una clase LeastSquaresClassifier con lo que acabamos de realizar.**"
   ]
  },
  {
   "cell_type": "code",
   "execution_count": 39,
   "metadata": {},
   "outputs": [],
   "source": [
    "class LeastSquaresClassifier():\n",
    "    def __init__(self, W:np.ndarray=None):\n",
    "        self.W = W\n",
    "\n",
    "    def fit(self, X:np.ndarray, y:np.ndarray):\n",
    "        \"\"\"----TU CODIGO AQUÍ---------\"\"\"\n",
    "        def encoderT(y:np.ndarray):\n",
    "            K=np.max(y) + 1\n",
    "            enc=np.eye(K)\n",
    "            return enc[y]\n",
    "        T=encoderT(y)\n",
    "        self.W=np.linalg.pinv(X)@T\n",
    "        \n",
    "    def clasifica(self, X:np.ndarray):\n",
    "        return np.argmax(X@self.W,axis=1)"
   ]
  },
  {
   "cell_type": "markdown",
   "metadata": {},
   "source": [
    "&#9998; **Prueba tu clasificador: completa la siguiente celda:**"
   ]
  },
  {
   "cell_type": "code",
   "execution_count": 40,
   "metadata": {},
   "outputs": [
    {
     "data": {
      "image/png": "[encoded data removed]",
      "text/plain": [
       "<Figure size 432x288 with 1 Axes>"
      ]
     },
     "metadata": {
      "needs_background": "light"
     },
     "output_type": "display_data"
    }
   ],
   "source": [
    "x_train, y_train = genera_datos()\n",
    "x1_test, x2_test = np.meshgrid(np.linspace(-5, 5, 100), np.linspace(-5, 5, 100))\n",
    "x_test = np.array([x1_test, x2_test]).reshape(2, -1).T\n",
    "\n",
    "features = preprocessing.PolynomialFeatures(1)\n",
    "X_train=features.fit_transform(x_train)\n",
    "X_test=features.fit_transform(x_test)\n",
    "\n",
    "\"\"\"----TU CODIGO AQUÍ---------\"\"\"\n",
    "#CREA el objeto\n",
    "modelo=LeastSquaresClassifier()\n",
    "#ENTRENA el modelo\n",
    "modelo.fit(X_train,y_train)\n",
    "#PRUEBA el modelo\n",
    "y=modelo.clasifica(X_test)\n",
    "\"\"\"----------------------------\"\"\"\n",
    "\n",
    "#-----Dibuja los datos---------------------------------\n",
    "plt.scatter(x_train[:, 0], x_train[:, 1], c=y_train)\n",
    "#-----Dibuja X_test---------------------------------\n",
    "plt.contourf(x1_test, x2_test, y.reshape(100, 100), alpha=0.2)\n",
    "#-----Formato de la gráfica------------------------\n",
    "plt.xlim(-5, 5)\n",
    "plt.ylim(-5, 5)\n",
    "plt.gca().set_aspect('equal', adjustable='box')\n",
    "fig.tight_layout()\n",
    "plt.show()"
   ]
  },
  {
   "cell_type": "markdown",
   "metadata": {},
   "source": [
    "**Veamos los vectores W resultantes**"
   ]
  },
  {
   "cell_type": "code",
   "execution_count": 41,
   "metadata": {},
   "outputs": [
    {
     "data": {
      "image/png": "[encoded data removed]",
      "text/plain": [
       "<Figure size 432x288 with 1 Axes>"
      ]
     },
     "metadata": {
      "needs_background": "light"
     },
     "output_type": "display_data"
    }
   ],
   "source": [
    "#--------W ----------------------\n",
    "W1=modelo.W[1:,0]\n",
    "W2=modelo.W[1:,1]\n",
    "\n",
    "#-------FD-------------------------\n",
    "Ax=100*W2[1]\n",
    "Ay=-100*W2[0]\n",
    "Bx=-100*W2[1]\n",
    "By=100*W2[0]\n",
    "\n",
    "#---------Dibuja todo-----------------\n",
    "fig = plt.figure()\n",
    "ax = fig.add_subplot(111)\n",
    "\n",
    "# Los datos\n",
    "plt.scatter(x_train[:, 0], x_train[:, 1], c=y_train)\n",
    "#La FD\n",
    "plt.plot([Ax,Bx],[Ay,By])\n",
    "#Los W\n",
    "plt.quiver(0,0,W1[0],W1[1], color=['r'], units='xy', scale = 0.1)\n",
    "plt.quiver(0,0,W2[0],W2[1], color=['g'], units='xy', scale = 0.1)\n",
    "\n",
    "plt.axis('equal')\n",
    "plt.xlim(-5, 5)\n",
    "plt.ylim(-5, 5)\n",
    "plt.gca().set_aspect('equal', adjustable='box')\n",
    "plt.show()\n",
    "\n",
    "fig.tight_layout()"
   ]
  },
  {
   "cell_type": "markdown",
   "metadata": {},
   "source": [
    "&#9998; **En algunos Textos, puedes encontrar que en el caso de 2 clases:**\n",
    "$$\n",
    "\\mathbf{W}=\\left(\\mathbf{X}^\\textrm{T}\\mathbf{X}\\right)^{-1}(Pos\\mu^\\oplus - Neg\\mu^\\ominus)\n",
    "$$\n",
    "donde $Pos$ y $Neg$ son el número de datos de la clase \"positiva\" y \"negativa\" respectivamente, y $\\mu$ es el centroide correspondiente. \n",
    "**Verifícalo**"
   ]
  },
  {
   "cell_type": "code",
   "execution_count": 42,
   "metadata": {},
   "outputs": [
    {
     "name": "stdout",
     "output_type": "stream",
     "text": [
      "[-0.34657511 -0.30389771]\n"
     ]
    },
    {
     "data": {
      "image/png": "[encoded data removed]",
      "text/plain": [
       "<Figure size 432x288 with 1 Axes>"
      ]
     },
     "metadata": {
      "needs_background": "light"
     },
     "output_type": "display_data"
    }
   ],
   "source": [
    "X=X_train[:,1:]\n",
    "X_pos=X[y_train==0]\n",
    "X_neg=X[y_train==1]\n",
    "\n",
    "Pos_mu=np.mean(X_pos,axis=0)\n",
    "Neg_mu=np.mean(X_neg,axis=0)\n",
    "\n",
    "diff=len(X_pos)*Pos_mu - len(X_neg)*Neg_mu\n",
    "\n",
    "W=np.linalg.inv(X.T@X)@diff\n",
    "print(W)\n",
    "\n",
    "fig = plt.figure()\n",
    "ax = fig.add_subplot(111)\n",
    "#La FD\n",
    "plt.plot([Ax,Bx],[Ay,By])\n",
    "\n",
    "# Dibuja los centroides\n",
    "ax.scatter(Pos_mu[0], Pos_mu[1], c='r',marker='*',s=80)\n",
    "ax.scatter(Neg_mu[0], Neg_mu[1], c='b',marker='*',s=80)\n",
    "\n",
    "#Dibuja el \"viejo\" W\n",
    "plt.quiver(0,0,W1[0],W1[1], color=['r'], units='xy', scale = 0.1)\n",
    "\n",
    "#Dibuja el \"nuevo\" W\n",
    "plt.quiver(0,0,W[0],W[1], color=['k'], units='xy', scale = .2)\n",
    "\n",
    "plt.contourf(x1_test, x2_test, y.reshape(100, 100), alpha=0.2,levels=1)\n",
    "plt.xlim(-5, 5)\n",
    "plt.ylim(-5, 5)\n",
    "plt.gca().set_aspect('equal', adjustable='box')\n",
    "fig.tight_layout()"
   ]
  },
  {
   "cell_type": "markdown",
   "metadata": {},
   "source": [
    "___"
   ]
  },
  {
   "cell_type": "markdown",
   "metadata": {},
   "source": [
    "## &#9998; **TAREA**: "
   ]
  },
  {
   "cell_type": "markdown",
   "metadata": {},
   "source": [
    "### En este ejercicio nos interesa observar el efecto de los outliers y de una tercera clase en el clasificador LS.\n",
    "\n",
    "1. Efecto de outliers\n",
    "   1. Guarda el vector W del clasificador visto arriba (C1).\n",
    "   2. Genera un nuevo conjunto de datos de entrenamiento con outliers usando la función `genera_datos(add_outliers=True)`; no vamos a necesitar el meshgrid.\n",
    "   3. Crea un nuevo clasificador y entrénalo con los datos nuevos.\n",
    "   4. Compara las FD del primer modelo y de este segundo modelo graficando ambas en la misma figura (es posible que necesites ajustar los límites de los ejes (x,y)).\n",
    "2. Efecto de 3 clases\n",
    "   1. Genera otro conjunto de datos de entrenamiento con 3 clases usando la función `genera_datos(add_class=True)`; usa un meshgrid de -5 a 10.\n",
    "   2. Crea un nuevo clasificador y entrénalo con estos datos de 3 clases.\n",
    "   3. Prueba el clasificador con datos de Test y observa las FD (es posible que necesites ajustar los límites de los ejes (x,y)).\n",
    "3. Concluye sobre las características de OLS como clasificador. "
   ]
  },
  {
   "cell_type": "markdown",
   "metadata": {},
   "source": [
    "___"
   ]
  },
  {
   "cell_type": "markdown",
   "metadata": {},
   "source": [
    "**Notas**\n",
    "\n",
    "* Argmax sirve para traer la clase ya que la distancia de un punto al hiperplano es \n",
    "$$\n",
    "\\frac{y(x)}{||W||}\n",
    "$$ \n",
    "como $||W||$ es constante y mayor a 0 entonces entre más grande sea $y(x)$ entonces la distancia sera mayor, por lo que si esa funcion lineal fuera un discriminante entonces estaria más seguro de que pertenece a su clase asignada\n",
    "\n",
    "* **Outliers**: Observación anormal o valor atipico(que no sigue la tendencia de los demás datos)\n",
    "* Poner %matplotlib widget al inicio para hacer graficos interactivos"
   ]
  },
  {
   "cell_type": "markdown",
   "metadata": {},
   "source": [
    "#### Efecto de outliers"
   ]
  },
  {
   "cell_type": "code",
   "execution_count": 47,
   "metadata": {},
   "outputs": [],
   "source": [
    "# Guardado del W del clasficador anterior\n",
    "W_anterior = modelo.W"
   ]
  },
  {
   "cell_type": "code",
   "execution_count": 48,
   "metadata": {},
   "outputs": [
    {
     "name": "stdout",
     "output_type": "stream",
     "text": [
      "X shape:  (55, 3)\n"
     ]
    }
   ],
   "source": [
    "\n",
    "# Generación del nuevo conjunto de datos de entrenamiento incluyendo datos atípicos\n",
    "x_trainOl, y_trainOl = genera_datos(add_outliers=True)\n",
    "\n",
    "# Uso del modulo de preprocessing de sklearn para poner las features de forma polinomica\n",
    "features = preprocessing.PolynomialFeatures(1) # Con 1 transforma las features (x1,x2) a (1,x1,x2)\n",
    "X_trainOl=features.fit_transform(x_trainOl)\n",
    "\n",
    "print(\"X shape: \",X_trainOl.shape)"
   ]
  },
  {
   "cell_type": "code",
   "execution_count": 49,
   "metadata": {},
   "outputs": [],
   "source": [
    "# Creación del nuevo modelo\n",
    "modeloOl = LeastSquaresClassifier()\n",
    "# Entrenamiento\n",
    "modeloOl.fit(X_trainOl,y_trainOl)"
   ]
  },
  {
   "cell_type": "code",
   "execution_count": 64,
   "metadata": {},
   "outputs": [
    {
     "name": "stdout",
     "output_type": "stream",
     "text": [
      "Pendientes de las FD\n",
      "FD1:  -1.104873517803841\n",
      "FD2:  -5.496533722105476\n"
     ]
    },
    {
     "data": {
      "image/png": "[encoded data removed]",
      "text/plain": [
       "<Figure size 432x288 with 1 Axes>"
      ]
     },
     "metadata": {
      "needs_background": "light"
     },
     "output_type": "display_data"
    }
   ],
   "source": [
    "# FD del primer modelo\n",
    "W2 = modelo.W[1:,1]\n",
    "A1 = [-100*W2[0],100*W2[1]]\n",
    "B1 = [100*W2[0],-100*W2[1]]\n",
    "\n",
    "# FD del nuevo modelo\n",
    "W2 = modeloOl.W[1:,1]\n",
    "A2 = [-100*W2[0],100*W2[1]]\n",
    "B2 = [1000*W2[0],-1000*W2[1]]\n",
    "\n",
    "print(\"Pendientes de las FD\")\n",
    "print(\"FD1: \",(B1[0]-A1[0])/(B1[1]-A1[1]))\n",
    "print(\"FD2: \",(B2[0]-A2[0])/(B2[1]-A2[1]))\n",
    "\n",
    "# Dibujo de las FD de los 2 modelos\n",
    "fig, ax = plt.subplots()\n",
    "\n",
    "# Los datos anteriores\n",
    "#plt.scatter(x_train[:, 0], x_train[:, 1], c=y_train)\n",
    "# Los datos nuevos\n",
    "plt.scatter(x_trainOl[:, 0], x_trainOl[:, 1], c=y_trainOl)\n",
    "\n",
    "# Las FD\n",
    "plt.plot(A1,B1,label=\"Modelo anterior\") # Del modelo anterior\n",
    "plt.plot(A2,B2,label=\"Modelo con outliers\")\n",
    "\n",
    "plt.legend(loc =\"lower right\")\n",
    "plt.xlim(-10, 10)\n",
    "plt.ylim(-10, 10)\n",
    "plt.gca().set_aspect('equal', adjustable='box')\n",
    "plt.show()"
   ]
  },
  {
   "cell_type": "markdown",
   "metadata": {},
   "source": [
    "#### Efecto de 3 clases"
   ]
  },
  {
   "cell_type": "code",
   "execution_count": 69,
   "metadata": {},
   "outputs": [
    {
     "name": "stdout",
     "output_type": "stream",
     "text": [
      "X shape:  (75, 3)\n"
     ]
    }
   ],
   "source": [
    "# Generación del conjunto de entrenamiento para 3 clases\n",
    "x_train3C, y_train3C = genera_datos(add_class = True)\n",
    "\n",
    "# Uso del modulo de preprocessing de sklearn para poner las features de forma polinomica\n",
    "features = preprocessing.PolynomialFeatures(1) # Con 1 transforma las features (x1,x2) a (1,x1,x2)\n",
    "X_train3C=features.fit_transform(x_train3C)\n",
    "\n",
    "print(\"X shape: \",X_train3C.shape)"
   ]
  },
  {
   "cell_type": "code",
   "execution_count": 73,
   "metadata": {},
   "outputs": [],
   "source": [
    "# Creación del MeshGrid que va de -5 a 10\n",
    "x1_test3C, x2_test3C = np.meshgrid(np.linspace(-5, 10, 100), np.linspace(-5, 10, 100))\n",
    "x_test3C = np.array([x1_test3C, x2_test3C]).reshape(2, -1).T\n",
    "\n",
    "# Uso del modulo de preprocessing de sklearn para poner las features de forma polinomica\n",
    "X_test3C=features.fit_transform(x_test3C)"
   ]
  },
  {
   "cell_type": "code",
   "execution_count": 77,
   "metadata": {},
   "outputs": [],
   "source": [
    "# Creación del modelo\n",
    "modelo3C = LeastSquaresClassifier()\n",
    "\n",
    "# Entrenamiento\n",
    "modelo3C.fit(X_train3C,y_train3C)\n",
    "\n",
    "# Prueba del modelo con el MeshGrid\n",
    "y_3C = modelo3C.clasifica(X_test3C)"
   ]
  },
  {
   "cell_type": "code",
   "execution_count": 138,
   "metadata": {},
   "outputs": [
    {
     "data": {
      "image/png": "[encoded data removed]",
      "text/plain": [
       "<Figure size 432x288 with 1 Axes>"
      ]
     },
     "metadata": {
      "needs_background": "light"
     },
     "output_type": "display_data"
    }
   ],
   "source": [
    "# FD 1\n",
    "W1 = modelo3C.W[1:,0]\n",
    "W1_X = [100*W1[1],-100*W1[1]]\n",
    "W1_Y = [-100*W1[0],100*W1[0]]\n",
    "\n",
    "# FD 2\n",
    "W2 = modelo3C.W[1:,1]\n",
    "W2_X = [200*W2[1],-200*W2[1]]\n",
    "W2_Y = [-200*W2[0],200*W2[0]]\n",
    "\n",
    "# FD 3\n",
    "W3 = modelo3C.W[1:,2]\n",
    "W3_X = [100*W3[1],-100*W3[1]]\n",
    "W3_Y = [-100*W3[0],100*W3[0]]\n",
    "\n",
    "# Las FD\n",
    "plt.plot(W1_X,W1_Y,label=\"FD 1\",color=\"r\")\n",
    "plt.plot(W2_X,W2_Y,label=\"FD 2\",color=\"b\")\n",
    "plt.plot(W3_X,W3_Y,label=\"FD 3\",color=\"orange\")\n",
    "\n",
    "#Los W\n",
    "plt.quiver(0,0,W1[0],W1[1], color=['r'], units='xy', scale = 0.1)\n",
    "plt.quiver(0,0,W2[0]*5,W2[1]*5, color=['b'], units='xy', scale = 0.1)\n",
    "plt.quiver(0,0,W3[0],W3[1], color=['orange'], units='xy', scale = 0.1)\n",
    "\n",
    "# Datos de prueba\n",
    "plt.contourf(x1_test3C, x2_test3C, y_3C.reshape(100, 100), alpha=0.2)\n",
    "\n",
    "plt.legend(loc =\"upper right\")\n",
    "plt.xlim(-5, 10)\n",
    "plt.ylim(-5, 10)\n",
    "plt.gca().set_aspect('equal', adjustable='box')\n",
    "fig.tight_layout()\n",
    "plt.show()"
   ]
  },
  {
   "cell_type": "markdown",
   "metadata": {},
   "source": [
    "#### Conclusiones\n",
    "\n",
    "OLS puede ser un clasificador util ya que obtiene la respuesta óptima de forma directa, lo que permite utilizarlo como una primera aproximación sin gastar mucho poder de computo "
   ]
  }
 ],
 "metadata": {
  "kernelspec": {
   "display_name": "Python 3.8.8 ('base')",
   "language": "python",
   "name": "python3"
  },
  "language_info": {
   "codemirror_mode": {
    "name": "ipython",
    "version": 3
   },
   "file_extension": ".py",
   "mimetype": "text/x-python",
   "name": "python",
   "nbconvert_exporter": "python",
   "pygments_lexer": "ipython3",
   "version": "3.8.8"
  },
  "vscode": {
   "interpreter": {
    "hash": "9f4f70181dd95a9d562a70f836fcadba96ae89ae4a502bd83f1e00f915c26e41"
   }
  }
 },
 "nbformat": 4,
 "nbformat_minor": 4
}
